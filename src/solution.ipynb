{
 "cells": [
  {
   "cell_type": "code",
   "execution_count": 29,
   "metadata": {},
   "outputs": [],
   "source": [
    "# Importing pandas and matplotlib\n",
    "import pandas as pd\n",
    "import matplotlib.pyplot as plt\n",
    "\n",
    "# Read in the Netflix CSV as a DataFrame\n",
    "netflix_df = pd.read_csv(\"assets/netflix_data.csv\")"
   ]
  },
  {
   "cell_type": "code",
   "execution_count": 30,
   "metadata": {},
   "outputs": [
    {
     "name": "stdout",
     "output_type": "stream",
     "text": [
      "     show_id     type       title           director  \\\n",
      "0         s2    Movie        7:19  Jorge Michel Grau   \n",
      "1         s3    Movie       23:59       Gilbert Chan   \n",
      "2         s4    Movie           9        Shane Acker   \n",
      "3         s5    Movie          21     Robert Luketic   \n",
      "4         s6  TV Show          46        Serdar Akar   \n",
      "...      ...      ...         ...                ...   \n",
      "4807   s7779    Movie  Zombieland    Ruben Fleischer   \n",
      "4808   s7781    Movie         Zoo       Shlok Sharma   \n",
      "4809   s7782    Movie        Zoom       Peter Hewitt   \n",
      "4810   s7783    Movie        Zozo        Josef Fares   \n",
      "4811   s7784    Movie      Zubaan        Mozez Singh   \n",
      "\n",
      "                                                   cast        country  \\\n",
      "0     Demián Bichir, Héctor Bonilla, Oscar Serrano, ...         Mexico   \n",
      "1     Tedd Chan, Stella Chung, Henley Hii, Lawrence ...      Singapore   \n",
      "2     Elijah Wood, John C. Reilly, Jennifer Connelly...  United States   \n",
      "3     Jim Sturgess, Kevin Spacey, Kate Bosworth, Aar...  United States   \n",
      "4     Erdal Beşikçioğlu, Yasemin Allen, Melis Birkan...         Turkey   \n",
      "...                                                 ...            ...   \n",
      "4807  Jesse Eisenberg, Woody Harrelson, Emma Stone, ...  United States   \n",
      "4808  Shashank Arora, Shweta Tripathi, Rahul Kumar, ...          India   \n",
      "4809  Tim Allen, Courteney Cox, Chevy Chase, Kate Ma...  United States   \n",
      "4810  Imad Creidi, Antoinette Turk, Elias Gergi, Car...         Sweden   \n",
      "4811  Vicky Kaushal, Sarah-Jane Dias, Raaghav Chanan...          India   \n",
      "\n",
      "             date_added  release_year  duration  \\\n",
      "0     December 23, 2016          2016        93   \n",
      "1     December 20, 2018          2011        78   \n",
      "2     November 16, 2017          2009        80   \n",
      "3       January 1, 2020          2008       123   \n",
      "4          July 1, 2017          2016         1   \n",
      "...                 ...           ...       ...   \n",
      "4807   November 1, 2019          2009        88   \n",
      "4808       July 1, 2018          2018        94   \n",
      "4809   January 11, 2020          2006        88   \n",
      "4810   October 19, 2020          2005        99   \n",
      "4811      March 2, 2019          2015       111   \n",
      "\n",
      "                                            description             genre  \n",
      "0     After a devastating earthquake hits Mexico Cit...            Dramas  \n",
      "1     When an army recruit is found dead, his fellow...     Horror Movies  \n",
      "2     In a postapocalyptic world, rag-doll robots hi...            Action  \n",
      "3     A brilliant group of students become card-coun...            Dramas  \n",
      "4     A genetics professor experiments with a treatm...  International TV  \n",
      "...                                                 ...               ...  \n",
      "4807  Looking to survive in a world taken over by zo...          Comedies  \n",
      "4808  A drug dealer starts having doubts about his t...            Dramas  \n",
      "4809  Dragged from civilian life, a former superhero...          Children  \n",
      "4810  When Lebanon's Civil War deprives Zozo of his ...            Dramas  \n",
      "4811  A scrappy but poor boy worms his way into a ty...            Dramas  \n",
      "\n",
      "[4812 rows x 11 columns]\n"
     ]
    }
   ],
   "source": [
    "# Start coding here! Use as many cells as you like\n",
    "print(netflix_df)"
   ]
  }
 ],
 "metadata": {
  "kernelspec": {
   "display_name": "python-study",
   "language": "python",
   "name": "python3"
  },
  "language_info": {
   "codemirror_mode": {
    "name": "ipython",
    "version": 3
   },
   "file_extension": ".py",
   "mimetype": "text/x-python",
   "name": "python",
   "nbconvert_exporter": "python",
   "pygments_lexer": "ipython3",
   "version": "3.9.19"
  }
 },
 "nbformat": 4,
 "nbformat_minor": 2
}
